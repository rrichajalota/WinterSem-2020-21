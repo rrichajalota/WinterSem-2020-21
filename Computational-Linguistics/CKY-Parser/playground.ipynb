{
 "cells": [
  {
   "cell_type": "code",
   "execution_count": 1,
   "metadata": {},
   "outputs": [],
   "source": [
    "import nltk\n",
    "from collections import Counter, defaultdict\n",
    "from nltk.tree import *"
   ]
  },
  {
   "cell_type": "code",
   "execution_count": 3,
   "metadata": {},
   "outputs": [
    {
     "name": "stderr",
     "output_type": "stream",
     "text": [
      "[nltk_data] Downloading package large_grammars to\n",
      "[nltk_data]     /home/rrichajalota/nltk_data...\n",
      "[nltk_data]   Unzipping grammars/large_grammars.zip.\n"
     ]
    },
    {
     "data": {
      "text/plain": [
       "True"
      ]
     },
     "execution_count": 3,
     "metadata": {},
     "output_type": "execute_result"
    }
   ],
   "source": [
    "# optional\n",
    "nltk.download('large_grammars')\n"
   ]
  },
  {
   "cell_type": "code",
   "execution_count": 7,
   "metadata": {},
   "outputs": [],
   "source": [
    "grammar = nltk.data.load(\"grammars/large_grammars/atis.cfg\") # load the grammar\n",
    "s = nltk.data.load(\"grammars/large_grammars/atis_sentences.txt\") # load raw sentences\n",
    "t = nltk.parse.util.extract_test_sentences(s)"
   ]
  },
  {
   "cell_type": "code",
   "execution_count": 36,
   "metadata": {},
   "outputs": [
    {
     "name": "stdout",
     "output_type": "stream",
     "text": [
      "[only -> 'only']\n"
     ]
    }
   ],
   "source": [
    "mixed = set()\n",
    "for prod in grammar.productions():\n",
    "    # replace such rules so that they point directly to terminals\n",
    "    if prod.is_nonlexical() and len(prod.rhs()) == 1:\n",
    "        pp = grammar.productions(lhs=prod.rhs()[0])\n",
    "        print(pp)\n",
    "        mixed.add(prod)\n",
    "        break"
   ]
  },
  {
   "cell_type": "code",
   "execution_count": 33,
   "metadata": {},
   "outputs": [
    {
     "data": {
      "text/plain": [
       "{ADJ_ABL -> only}"
      ]
     },
     "execution_count": 33,
     "metadata": {},
     "output_type": "execute_result"
    }
   ],
   "source": [
    "mixed"
   ]
  },
  {
   "cell_type": "code",
   "execution_count": 5,
   "metadata": {},
   "outputs": [
    {
     "name": "stdout",
     "output_type": "stream",
     "text": [
      "(['i', 'need', 'a', 'flight', 'from', 'charlotte', 'to', 'las', 'vegas', 'that', 'makes', 'a', 'stop', 'in', 'saint', 'louis', '.'], 2085)\n",
      "(['what', 'is', 'the', 'cheapest', 'one', 'way', 'flight', 'from', 'phoenix', 'to', 'san', 'diego', 'that', 'arrives', 'in', 'the', 'morning', 'on', 'thursday', 'june', 'second', '.'], 1380)\n",
      "(['what', 'is', 'the', 'cheapest', 'one', 'way', 'flight', 'from', 'columbus', 'to', 'indianapolis', '.'], 50)\n",
      "(['is', 'there', 'a', 'flight', 'from', 'memphis', 'to', 'los', 'angeles', '.'], 18)\n",
      "(['what', 'aircraft', 'is', 'this', '.'], 0)\n",
      "(['please', 'show', 'me', 'the', 'flights', 'from', 'chicago', 'to', 'detroit', 'that', 'arrive', 'at', 'six', 'p.m.', 'next', 'tuesday', '.'], 20)\n",
      "(['what', 'flights', 'are', 'available', 'between', 'chicago', 'and', 'indianapolis', 'next', 'wednesday', 'between', 'eleven', 'a.m.', 'and', 'one', 'p.m', '.'], 0)\n",
      "(['please', 'book', 'a', 'one', 'way', 'coach', 'fare', 'from', 'chicago', 'to', 'indianapolis', 'on', 'united', 'flight', 'two', 'ninety', 'two', 'next', 'wednesday', '.'], 0)\n"
     ]
    },
    {
     "ename": "KeyboardInterrupt",
     "evalue": "",
     "output_type": "error",
     "traceback": [
      "\u001b[0;31m---------------------------------------------------------------------------\u001b[0m",
      "\u001b[0;31mAttributeError\u001b[0m                            Traceback (most recent call last)",
      "\u001b[0;32m/usr/local/lib/python3.6/dist-packages/nltk/parse/chart.py\u001b[0m in \u001b[0;36m__hash__\u001b[0;34m(self)\u001b[0m\n\u001b[1;32m    225\u001b[0m         \u001b[0;32mtry\u001b[0m\u001b[0;34m:\u001b[0m\u001b[0;34m\u001b[0m\u001b[0;34m\u001b[0m\u001b[0m\n\u001b[0;32m--> 226\u001b[0;31m             \u001b[0;32mreturn\u001b[0m \u001b[0mself\u001b[0m\u001b[0;34m.\u001b[0m\u001b[0m_hash\u001b[0m\u001b[0;34m\u001b[0m\u001b[0;34m\u001b[0m\u001b[0m\n\u001b[0m\u001b[1;32m    227\u001b[0m         \u001b[0;32mexcept\u001b[0m \u001b[0mAttributeError\u001b[0m\u001b[0;34m:\u001b[0m\u001b[0;34m\u001b[0m\u001b[0;34m\u001b[0m\u001b[0m\n",
      "\u001b[0;31mAttributeError\u001b[0m: 'TreeEdge' object has no attribute '_hash'",
      "\nDuring handling of the above exception, another exception occurred:\n",
      "\u001b[0;31mKeyboardInterrupt\u001b[0m                         Traceback (most recent call last)",
      "\u001b[0;32m<ipython-input-5-8d606b6af03e>\u001b[0m in \u001b[0;36m<module>\u001b[0;34m()\u001b[0m\n\u001b[1;32m      4\u001b[0m \u001b[0;32mfor\u001b[0m \u001b[0msentence\u001b[0m \u001b[0;32min\u001b[0m \u001b[0mt\u001b[0m\u001b[0;34m:\u001b[0m\u001b[0;34m\u001b[0m\u001b[0;34m\u001b[0m\u001b[0m\n\u001b[1;32m      5\u001b[0m     \u001b[0mprint\u001b[0m\u001b[0;34m(\u001b[0m\u001b[0msentence\u001b[0m\u001b[0;34m)\u001b[0m\u001b[0;34m\u001b[0m\u001b[0;34m\u001b[0m\u001b[0m\n\u001b[0;32m----> 6\u001b[0;31m     \u001b[0mparser\u001b[0m\u001b[0;34m.\u001b[0m\u001b[0mchart_parse\u001b[0m\u001b[0;34m(\u001b[0m\u001b[0msentence\u001b[0m\u001b[0;34m[\u001b[0m\u001b[0;36m0\u001b[0m\u001b[0;34m]\u001b[0m\u001b[0;34m)\u001b[0m\u001b[0;34m\u001b[0m\u001b[0;34m\u001b[0m\u001b[0m\n\u001b[0m",
      "\u001b[0;32m/usr/local/lib/python3.6/dist-packages/nltk/parse/chart.py\u001b[0m in \u001b[0;36mchart_parse\u001b[0;34m(self, tokens, trace)\u001b[0m\n\u001b[1;32m   1470\u001b[0m                 \u001b[0medge\u001b[0m \u001b[0;34m=\u001b[0m \u001b[0magenda\u001b[0m\u001b[0;34m.\u001b[0m\u001b[0mpop\u001b[0m\u001b[0;34m(\u001b[0m\u001b[0;34m)\u001b[0m\u001b[0;34m\u001b[0m\u001b[0;34m\u001b[0m\u001b[0m\n\u001b[1;32m   1471\u001b[0m                 \u001b[0;32mfor\u001b[0m \u001b[0mrule\u001b[0m \u001b[0;32min\u001b[0m \u001b[0minference_rules\u001b[0m\u001b[0;34m:\u001b[0m\u001b[0;34m\u001b[0m\u001b[0;34m\u001b[0m\u001b[0m\n\u001b[0;32m-> 1472\u001b[0;31m                     \u001b[0mnew_edges\u001b[0m \u001b[0;34m=\u001b[0m \u001b[0mlist\u001b[0m\u001b[0;34m(\u001b[0m\u001b[0mrule\u001b[0m\u001b[0;34m.\u001b[0m\u001b[0mapply\u001b[0m\u001b[0;34m(\u001b[0m\u001b[0mchart\u001b[0m\u001b[0;34m,\u001b[0m \u001b[0mgrammar\u001b[0m\u001b[0;34m,\u001b[0m \u001b[0medge\u001b[0m\u001b[0;34m)\u001b[0m\u001b[0;34m)\u001b[0m\u001b[0;34m\u001b[0m\u001b[0;34m\u001b[0m\u001b[0m\n\u001b[0m\u001b[1;32m   1473\u001b[0m                     \u001b[0;32mif\u001b[0m \u001b[0mtrace\u001b[0m\u001b[0;34m:\u001b[0m\u001b[0;34m\u001b[0m\u001b[0;34m\u001b[0m\u001b[0m\n\u001b[1;32m   1474\u001b[0m                         \u001b[0mtrace_new_edges\u001b[0m\u001b[0;34m(\u001b[0m\u001b[0mchart\u001b[0m\u001b[0;34m,\u001b[0m \u001b[0mrule\u001b[0m\u001b[0;34m,\u001b[0m \u001b[0mnew_edges\u001b[0m\u001b[0;34m,\u001b[0m \u001b[0mtrace\u001b[0m\u001b[0;34m,\u001b[0m \u001b[0mtrace_edge_width\u001b[0m\u001b[0;34m)\u001b[0m\u001b[0;34m\u001b[0m\u001b[0;34m\u001b[0m\u001b[0m\n",
      "\u001b[0;32m/usr/local/lib/python3.6/dist-packages/nltk/parse/chart.py\u001b[0m in \u001b[0;36mapply\u001b[0;34m(self, chart, grammar, edge)\u001b[0m\n\u001b[1;32m   1084\u001b[0m                 \u001b[0;32myield\u001b[0m \u001b[0mnew_edge\u001b[0m\u001b[0;34m\u001b[0m\u001b[0;34m\u001b[0m\u001b[0m\n\u001b[1;32m   1085\u001b[0m         \u001b[0;32melse\u001b[0m\u001b[0;34m:\u001b[0m\u001b[0;34m\u001b[0m\u001b[0;34m\u001b[0m\u001b[0m\n\u001b[0;32m-> 1086\u001b[0;31m             \u001b[0;32mfor\u001b[0m \u001b[0mnew_edge\u001b[0m \u001b[0;32min\u001b[0m \u001b[0mself\u001b[0m\u001b[0;34m.\u001b[0m\u001b[0m_apply_complete\u001b[0m\u001b[0;34m(\u001b[0m\u001b[0mchart\u001b[0m\u001b[0;34m,\u001b[0m \u001b[0mgrammar\u001b[0m\u001b[0;34m,\u001b[0m \u001b[0medge\u001b[0m\u001b[0;34m)\u001b[0m\u001b[0;34m:\u001b[0m\u001b[0;34m\u001b[0m\u001b[0;34m\u001b[0m\u001b[0m\n\u001b[0m\u001b[1;32m   1087\u001b[0m                 \u001b[0;32myield\u001b[0m \u001b[0mnew_edge\u001b[0m\u001b[0;34m\u001b[0m\u001b[0;34m\u001b[0m\u001b[0m\n\u001b[1;32m   1088\u001b[0m \u001b[0;34m\u001b[0m\u001b[0m\n",
      "\u001b[0;32m/usr/local/lib/python3.6/dist-packages/nltk/parse/chart.py\u001b[0m in \u001b[0;36m_apply_complete\u001b[0;34m(self, chart, grammar, right_edge)\u001b[0m\n\u001b[1;32m   1092\u001b[0m         ):\n\u001b[1;32m   1093\u001b[0m             \u001b[0mnew_edge\u001b[0m \u001b[0;34m=\u001b[0m \u001b[0mleft_edge\u001b[0m\u001b[0;34m.\u001b[0m\u001b[0mmove_dot_forward\u001b[0m\u001b[0;34m(\u001b[0m\u001b[0mright_edge\u001b[0m\u001b[0;34m.\u001b[0m\u001b[0mend\u001b[0m\u001b[0;34m(\u001b[0m\u001b[0;34m)\u001b[0m\u001b[0;34m)\u001b[0m\u001b[0;34m\u001b[0m\u001b[0;34m\u001b[0m\u001b[0m\n\u001b[0;32m-> 1094\u001b[0;31m             \u001b[0;32mif\u001b[0m \u001b[0mchart\u001b[0m\u001b[0;34m.\u001b[0m\u001b[0minsert_with_backpointer\u001b[0m\u001b[0;34m(\u001b[0m\u001b[0mnew_edge\u001b[0m\u001b[0;34m,\u001b[0m \u001b[0mleft_edge\u001b[0m\u001b[0;34m,\u001b[0m \u001b[0mright_edge\u001b[0m\u001b[0;34m)\u001b[0m\u001b[0;34m:\u001b[0m\u001b[0;34m\u001b[0m\u001b[0;34m\u001b[0m\u001b[0m\n\u001b[0m\u001b[1;32m   1095\u001b[0m                 \u001b[0;32myield\u001b[0m \u001b[0mnew_edge\u001b[0m\u001b[0;34m\u001b[0m\u001b[0;34m\u001b[0m\u001b[0m\n\u001b[1;32m   1096\u001b[0m \u001b[0;34m\u001b[0m\u001b[0m\n",
      "\u001b[0;32m/usr/local/lib/python3.6/dist-packages/nltk/parse/chart.py\u001b[0m in \u001b[0;36minsert_with_backpointer\u001b[0;34m(self, new_edge, previous_edge, child_edge)\u001b[0m\n\u001b[1;32m    636\u001b[0m         \u001b[0mcpls\u001b[0m \u001b[0;34m=\u001b[0m \u001b[0mself\u001b[0m\u001b[0;34m.\u001b[0m\u001b[0mchild_pointer_lists\u001b[0m\u001b[0;34m(\u001b[0m\u001b[0mprevious_edge\u001b[0m\u001b[0;34m)\u001b[0m\u001b[0;34m\u001b[0m\u001b[0;34m\u001b[0m\u001b[0m\n\u001b[1;32m    637\u001b[0m         \u001b[0mnew_cpls\u001b[0m \u001b[0;34m=\u001b[0m \u001b[0;34m[\u001b[0m\u001b[0mcpl\u001b[0m \u001b[0;34m+\u001b[0m \u001b[0;34m(\u001b[0m\u001b[0mchild_edge\u001b[0m\u001b[0;34m,\u001b[0m\u001b[0;34m)\u001b[0m \u001b[0;32mfor\u001b[0m \u001b[0mcpl\u001b[0m \u001b[0;32min\u001b[0m \u001b[0mcpls\u001b[0m\u001b[0;34m]\u001b[0m\u001b[0;34m\u001b[0m\u001b[0;34m\u001b[0m\u001b[0m\n\u001b[0;32m--> 638\u001b[0;31m         \u001b[0;32mreturn\u001b[0m \u001b[0mself\u001b[0m\u001b[0;34m.\u001b[0m\u001b[0minsert\u001b[0m\u001b[0;34m(\u001b[0m\u001b[0mnew_edge\u001b[0m\u001b[0;34m,\u001b[0m \u001b[0;34m*\u001b[0m\u001b[0mnew_cpls\u001b[0m\u001b[0;34m)\u001b[0m\u001b[0;34m\u001b[0m\u001b[0;34m\u001b[0m\u001b[0m\n\u001b[0m\u001b[1;32m    639\u001b[0m \u001b[0;34m\u001b[0m\u001b[0m\n\u001b[1;32m    640\u001b[0m     \u001b[0;32mdef\u001b[0m \u001b[0minsert\u001b[0m\u001b[0;34m(\u001b[0m\u001b[0mself\u001b[0m\u001b[0;34m,\u001b[0m \u001b[0medge\u001b[0m\u001b[0;34m,\u001b[0m \u001b[0;34m*\u001b[0m\u001b[0mchild_pointer_lists\u001b[0m\u001b[0;34m)\u001b[0m\u001b[0;34m:\u001b[0m\u001b[0;34m\u001b[0m\u001b[0;34m\u001b[0m\u001b[0m\n",
      "\u001b[0;32m/usr/local/lib/python3.6/dist-packages/nltk/parse/chart.py\u001b[0m in \u001b[0;36minsert\u001b[0;34m(self, edge, *child_pointer_lists)\u001b[0m\n\u001b[1;32m    654\u001b[0m         \"\"\"\n\u001b[1;32m    655\u001b[0m         \u001b[0;31m# Is it a new edge?\u001b[0m\u001b[0;34m\u001b[0m\u001b[0;34m\u001b[0m\u001b[0;34m\u001b[0m\u001b[0m\n\u001b[0;32m--> 656\u001b[0;31m         \u001b[0;32mif\u001b[0m \u001b[0medge\u001b[0m \u001b[0;32mnot\u001b[0m \u001b[0;32min\u001b[0m \u001b[0mself\u001b[0m\u001b[0;34m.\u001b[0m\u001b[0m_edge_to_cpls\u001b[0m\u001b[0;34m:\u001b[0m\u001b[0;34m\u001b[0m\u001b[0;34m\u001b[0m\u001b[0m\n\u001b[0m\u001b[1;32m    657\u001b[0m             \u001b[0;31m# Add it to the list of edges.\u001b[0m\u001b[0;34m\u001b[0m\u001b[0;34m\u001b[0m\u001b[0;34m\u001b[0m\u001b[0m\n\u001b[1;32m    658\u001b[0m             \u001b[0mself\u001b[0m\u001b[0;34m.\u001b[0m\u001b[0m_append_edge\u001b[0m\u001b[0;34m(\u001b[0m\u001b[0medge\u001b[0m\u001b[0;34m)\u001b[0m\u001b[0;34m\u001b[0m\u001b[0;34m\u001b[0m\u001b[0m\n",
      "\u001b[0;32m/usr/local/lib/python3.6/dist-packages/nltk/parse/chart.py\u001b[0m in \u001b[0;36m__hash__\u001b[0;34m(self)\u001b[0m\n\u001b[1;32m    226\u001b[0m             \u001b[0;32mreturn\u001b[0m \u001b[0mself\u001b[0m\u001b[0;34m.\u001b[0m\u001b[0m_hash\u001b[0m\u001b[0;34m\u001b[0m\u001b[0;34m\u001b[0m\u001b[0m\n\u001b[1;32m    227\u001b[0m         \u001b[0;32mexcept\u001b[0m \u001b[0mAttributeError\u001b[0m\u001b[0;34m:\u001b[0m\u001b[0;34m\u001b[0m\u001b[0;34m\u001b[0m\u001b[0m\n\u001b[0;32m--> 228\u001b[0;31m             \u001b[0mself\u001b[0m\u001b[0;34m.\u001b[0m\u001b[0m_hash\u001b[0m \u001b[0;34m=\u001b[0m \u001b[0mhash\u001b[0m\u001b[0;34m(\u001b[0m\u001b[0mself\u001b[0m\u001b[0;34m.\u001b[0m\u001b[0m_comparison_key\u001b[0m\u001b[0;34m)\u001b[0m\u001b[0;34m\u001b[0m\u001b[0;34m\u001b[0m\u001b[0m\n\u001b[0m\u001b[1;32m    229\u001b[0m             \u001b[0;32mreturn\u001b[0m \u001b[0mself\u001b[0m\u001b[0;34m.\u001b[0m\u001b[0m_hash\u001b[0m\u001b[0;34m\u001b[0m\u001b[0;34m\u001b[0m\u001b[0m\n\u001b[1;32m    230\u001b[0m \u001b[0;34m\u001b[0m\u001b[0m\n",
      "\u001b[0;32m/usr/local/lib/python3.6/dist-packages/nltk/grammar.py\u001b[0m in \u001b[0;36m__hash__\u001b[0;34m(self)\u001b[0m\n\u001b[1;32m    149\u001b[0m \u001b[0;34m\u001b[0m\u001b[0m\n\u001b[1;32m    150\u001b[0m     \u001b[0;32mdef\u001b[0m \u001b[0m__hash__\u001b[0m\u001b[0;34m(\u001b[0m\u001b[0mself\u001b[0m\u001b[0;34m)\u001b[0m\u001b[0;34m:\u001b[0m\u001b[0;34m\u001b[0m\u001b[0;34m\u001b[0m\u001b[0m\n\u001b[0;32m--> 151\u001b[0;31m         \u001b[0;32mreturn\u001b[0m \u001b[0mself\u001b[0m\u001b[0;34m.\u001b[0m\u001b[0m_hash\u001b[0m\u001b[0;34m\u001b[0m\u001b[0;34m\u001b[0m\u001b[0m\n\u001b[0m\u001b[1;32m    152\u001b[0m \u001b[0;34m\u001b[0m\u001b[0m\n\u001b[1;32m    153\u001b[0m     \u001b[0;32mdef\u001b[0m \u001b[0m__repr__\u001b[0m\u001b[0;34m(\u001b[0m\u001b[0mself\u001b[0m\u001b[0;34m)\u001b[0m\u001b[0;34m:\u001b[0m\u001b[0;34m\u001b[0m\u001b[0;34m\u001b[0m\u001b[0m\n",
      "\u001b[0;31mKeyboardInterrupt\u001b[0m: "
     ]
    }
   ],
   "source": [
    "# initialize the parser\n",
    "parser = nltk.parse.BottomUpChartParser(grammar)\n",
    "# parse all test sentences\n",
    "for sentence in t:\n",
    "    print(sentence)\n",
    "    parser.chart_parse(sentence[0])"
   ]
  },
  {
   "cell_type": "markdown",
   "metadata": {},
   "source": [
    "https://www.nltk.org/api/nltk.html#nltk.grammar.CFG\n",
    "https://www.nltk.org/api/nltk.html#nltk.tree.Tree.pformat_latex_qtree"
   ]
  },
  {
   "cell_type": "code",
   "execution_count": 76,
   "metadata": {},
   "outputs": [],
   "source": []
  },
  {
   "cell_type": "code",
   "execution_count": 6,
   "metadata": {},
   "outputs": [
    {
     "data": {
      "text/plain": [
       "True"
      ]
     },
     "execution_count": 6,
     "metadata": {},
     "output_type": "execute_result"
    }
   ],
   "source": [
    "grammar.is_chomsky_normal_form()"
   ]
  },
  {
   "cell_type": "code",
   "execution_count": 81,
   "metadata": {},
   "outputs": [
    {
     "name": "stdout",
     "output_type": "stream",
     "text": [
      "(['what', 'is', 'e', 'w', 'r', '.'], None)\n",
      "(['oakland', 'to', 'salt', 'lake', 'city', '.'], None)\n",
      "(['show', 'me', 'northwest', 'flights', 'to', 'detroit', '.'], None)\n",
      "(['i', 'want', 'to', 'leave', 'before', 'noon', '.'], None)\n",
      "(['what', 'flights', 'leave', 'boston', 'to', 'pittsburgh', '.'], None)\n",
      "(['i', \"'d\", 'like', 'an', 'afternoon', 'flight', '.'], None)\n",
      "(['are', 'any', 'fares', 'cheaper', 'than', 'these', '.'], None)\n",
      "(['what', 'is', 'the', 'flying', 'time', 'from', '.'], None)\n",
      "(['which', 'flights', 'use', 'a', 'large', 'plane', '.'], None)\n",
      "(['what', 'area', 'does', 'canadian', 'airlines', 'international', 'service', '.'], None)\n",
      "(['what', 'flights', 'leave', 'las', 'vegas', 'to', 'oakland', '.'], None)\n"
     ]
    },
    {
     "ename": "KeyboardInterrupt",
     "evalue": "",
     "output_type": "error",
     "traceback": [
      "\u001b[0;31m---------------------------------------------------------------------------\u001b[0m",
      "\u001b[0;31mKeyboardInterrupt\u001b[0m                         Traceback (most recent call last)",
      "\u001b[0;32m<ipython-input-81-8b036c1586df>\u001b[0m in \u001b[0;36m<module>\u001b[0;34m()\u001b[0m\n\u001b[1;32m      1\u001b[0m \u001b[0;32mfor\u001b[0m \u001b[0midx\u001b[0m\u001b[0;34m,\u001b[0m \u001b[0msent\u001b[0m \u001b[0;32min\u001b[0m \u001b[0menumerate\u001b[0m\u001b[0;34m(\u001b[0m\u001b[0mtest_sents\u001b[0m\u001b[0;34m[\u001b[0m\u001b[0;36m15\u001b[0m\u001b[0;34m:\u001b[0m\u001b[0;36m31\u001b[0m\u001b[0;34m]\u001b[0m\u001b[0;34m)\u001b[0m\u001b[0;34m:\u001b[0m\u001b[0;34m\u001b[0m\u001b[0;34m\u001b[0m\u001b[0m\n\u001b[1;32m      2\u001b[0m  \u001b[0mprint\u001b[0m\u001b[0;34m(\u001b[0m\u001b[0msent\u001b[0m\u001b[0;34m)\u001b[0m\u001b[0;34m\u001b[0m\u001b[0;34m\u001b[0m\u001b[0m\n\u001b[0;32m----> 3\u001b[0;31m  \u001b[0mparser\u001b[0m\u001b[0;34m.\u001b[0m\u001b[0mchart_parse\u001b[0m\u001b[0;34m(\u001b[0m\u001b[0msent\u001b[0m\u001b[0;34m[\u001b[0m\u001b[0;36m0\u001b[0m\u001b[0;34m]\u001b[0m\u001b[0;34m)\u001b[0m\u001b[0;34m\u001b[0m\u001b[0;34m\u001b[0m\u001b[0m\n\u001b[0m",
      "\u001b[0;32m/usr/local/lib/python3.6/dist-packages/nltk/parse/chart.py\u001b[0m in \u001b[0;36mchart_parse\u001b[0;34m(self, tokens, trace)\u001b[0m\n\u001b[1;32m   1470\u001b[0m                 \u001b[0medge\u001b[0m \u001b[0;34m=\u001b[0m \u001b[0magenda\u001b[0m\u001b[0;34m.\u001b[0m\u001b[0mpop\u001b[0m\u001b[0;34m(\u001b[0m\u001b[0;34m)\u001b[0m\u001b[0;34m\u001b[0m\u001b[0;34m\u001b[0m\u001b[0m\n\u001b[1;32m   1471\u001b[0m                 \u001b[0;32mfor\u001b[0m \u001b[0mrule\u001b[0m \u001b[0;32min\u001b[0m \u001b[0minference_rules\u001b[0m\u001b[0;34m:\u001b[0m\u001b[0;34m\u001b[0m\u001b[0;34m\u001b[0m\u001b[0m\n\u001b[0;32m-> 1472\u001b[0;31m                     \u001b[0mnew_edges\u001b[0m \u001b[0;34m=\u001b[0m \u001b[0mlist\u001b[0m\u001b[0;34m(\u001b[0m\u001b[0mrule\u001b[0m\u001b[0;34m.\u001b[0m\u001b[0mapply\u001b[0m\u001b[0;34m(\u001b[0m\u001b[0mchart\u001b[0m\u001b[0;34m,\u001b[0m \u001b[0mgrammar\u001b[0m\u001b[0;34m,\u001b[0m \u001b[0medge\u001b[0m\u001b[0;34m)\u001b[0m\u001b[0;34m)\u001b[0m\u001b[0;34m\u001b[0m\u001b[0;34m\u001b[0m\u001b[0m\n\u001b[0m\u001b[1;32m   1473\u001b[0m                     \u001b[0;32mif\u001b[0m \u001b[0mtrace\u001b[0m\u001b[0;34m:\u001b[0m\u001b[0;34m\u001b[0m\u001b[0;34m\u001b[0m\u001b[0m\n\u001b[1;32m   1474\u001b[0m                         \u001b[0mtrace_new_edges\u001b[0m\u001b[0;34m(\u001b[0m\u001b[0mchart\u001b[0m\u001b[0;34m,\u001b[0m \u001b[0mrule\u001b[0m\u001b[0;34m,\u001b[0m \u001b[0mnew_edges\u001b[0m\u001b[0;34m,\u001b[0m \u001b[0mtrace\u001b[0m\u001b[0;34m,\u001b[0m \u001b[0mtrace_edge_width\u001b[0m\u001b[0;34m)\u001b[0m\u001b[0;34m\u001b[0m\u001b[0;34m\u001b[0m\u001b[0m\n",
      "\u001b[0;32m/usr/local/lib/python3.6/dist-packages/nltk/parse/chart.py\u001b[0m in \u001b[0;36mapply\u001b[0;34m(self, chart, grammar, edge)\u001b[0m\n\u001b[1;32m   1084\u001b[0m                 \u001b[0;32myield\u001b[0m \u001b[0mnew_edge\u001b[0m\u001b[0;34m\u001b[0m\u001b[0;34m\u001b[0m\u001b[0m\n\u001b[1;32m   1085\u001b[0m         \u001b[0;32melse\u001b[0m\u001b[0;34m:\u001b[0m\u001b[0;34m\u001b[0m\u001b[0;34m\u001b[0m\u001b[0m\n\u001b[0;32m-> 1086\u001b[0;31m             \u001b[0;32mfor\u001b[0m \u001b[0mnew_edge\u001b[0m \u001b[0;32min\u001b[0m \u001b[0mself\u001b[0m\u001b[0;34m.\u001b[0m\u001b[0m_apply_complete\u001b[0m\u001b[0;34m(\u001b[0m\u001b[0mchart\u001b[0m\u001b[0;34m,\u001b[0m \u001b[0mgrammar\u001b[0m\u001b[0;34m,\u001b[0m \u001b[0medge\u001b[0m\u001b[0;34m)\u001b[0m\u001b[0;34m:\u001b[0m\u001b[0;34m\u001b[0m\u001b[0;34m\u001b[0m\u001b[0m\n\u001b[0m\u001b[1;32m   1087\u001b[0m                 \u001b[0;32myield\u001b[0m \u001b[0mnew_edge\u001b[0m\u001b[0;34m\u001b[0m\u001b[0;34m\u001b[0m\u001b[0m\n\u001b[1;32m   1088\u001b[0m \u001b[0;34m\u001b[0m\u001b[0m\n",
      "\u001b[0;32m/usr/local/lib/python3.6/dist-packages/nltk/parse/chart.py\u001b[0m in \u001b[0;36m_apply_complete\u001b[0;34m(self, chart, grammar, right_edge)\u001b[0m\n\u001b[1;32m   1092\u001b[0m         ):\n\u001b[1;32m   1093\u001b[0m             \u001b[0mnew_edge\u001b[0m \u001b[0;34m=\u001b[0m \u001b[0mleft_edge\u001b[0m\u001b[0;34m.\u001b[0m\u001b[0mmove_dot_forward\u001b[0m\u001b[0;34m(\u001b[0m\u001b[0mright_edge\u001b[0m\u001b[0;34m.\u001b[0m\u001b[0mend\u001b[0m\u001b[0;34m(\u001b[0m\u001b[0;34m)\u001b[0m\u001b[0;34m)\u001b[0m\u001b[0;34m\u001b[0m\u001b[0;34m\u001b[0m\u001b[0m\n\u001b[0;32m-> 1094\u001b[0;31m             \u001b[0;32mif\u001b[0m \u001b[0mchart\u001b[0m\u001b[0;34m.\u001b[0m\u001b[0minsert_with_backpointer\u001b[0m\u001b[0;34m(\u001b[0m\u001b[0mnew_edge\u001b[0m\u001b[0;34m,\u001b[0m \u001b[0mleft_edge\u001b[0m\u001b[0;34m,\u001b[0m \u001b[0mright_edge\u001b[0m\u001b[0;34m)\u001b[0m\u001b[0;34m:\u001b[0m\u001b[0;34m\u001b[0m\u001b[0;34m\u001b[0m\u001b[0m\n\u001b[0m\u001b[1;32m   1095\u001b[0m                 \u001b[0;32myield\u001b[0m \u001b[0mnew_edge\u001b[0m\u001b[0;34m\u001b[0m\u001b[0;34m\u001b[0m\u001b[0m\n\u001b[1;32m   1096\u001b[0m \u001b[0;34m\u001b[0m\u001b[0m\n",
      "\u001b[0;32m/usr/local/lib/python3.6/dist-packages/nltk/parse/chart.py\u001b[0m in \u001b[0;36minsert_with_backpointer\u001b[0;34m(self, new_edge, previous_edge, child_edge)\u001b[0m\n\u001b[1;32m    636\u001b[0m         \u001b[0mcpls\u001b[0m \u001b[0;34m=\u001b[0m \u001b[0mself\u001b[0m\u001b[0;34m.\u001b[0m\u001b[0mchild_pointer_lists\u001b[0m\u001b[0;34m(\u001b[0m\u001b[0mprevious_edge\u001b[0m\u001b[0;34m)\u001b[0m\u001b[0;34m\u001b[0m\u001b[0;34m\u001b[0m\u001b[0m\n\u001b[1;32m    637\u001b[0m         \u001b[0mnew_cpls\u001b[0m \u001b[0;34m=\u001b[0m \u001b[0;34m[\u001b[0m\u001b[0mcpl\u001b[0m \u001b[0;34m+\u001b[0m \u001b[0;34m(\u001b[0m\u001b[0mchild_edge\u001b[0m\u001b[0;34m,\u001b[0m\u001b[0;34m)\u001b[0m \u001b[0;32mfor\u001b[0m \u001b[0mcpl\u001b[0m \u001b[0;32min\u001b[0m \u001b[0mcpls\u001b[0m\u001b[0;34m]\u001b[0m\u001b[0;34m\u001b[0m\u001b[0;34m\u001b[0m\u001b[0m\n\u001b[0;32m--> 638\u001b[0;31m         \u001b[0;32mreturn\u001b[0m \u001b[0mself\u001b[0m\u001b[0;34m.\u001b[0m\u001b[0minsert\u001b[0m\u001b[0;34m(\u001b[0m\u001b[0mnew_edge\u001b[0m\u001b[0;34m,\u001b[0m \u001b[0;34m*\u001b[0m\u001b[0mnew_cpls\u001b[0m\u001b[0;34m)\u001b[0m\u001b[0;34m\u001b[0m\u001b[0;34m\u001b[0m\u001b[0m\n\u001b[0m\u001b[1;32m    639\u001b[0m \u001b[0;34m\u001b[0m\u001b[0m\n\u001b[1;32m    640\u001b[0m     \u001b[0;32mdef\u001b[0m \u001b[0minsert\u001b[0m\u001b[0;34m(\u001b[0m\u001b[0mself\u001b[0m\u001b[0;34m,\u001b[0m \u001b[0medge\u001b[0m\u001b[0;34m,\u001b[0m \u001b[0;34m*\u001b[0m\u001b[0mchild_pointer_lists\u001b[0m\u001b[0;34m)\u001b[0m\u001b[0;34m:\u001b[0m\u001b[0;34m\u001b[0m\u001b[0;34m\u001b[0m\u001b[0m\n",
      "\u001b[0;32m/usr/local/lib/python3.6/dist-packages/nltk/parse/chart.py\u001b[0m in \u001b[0;36minsert\u001b[0;34m(self, edge, *child_pointer_lists)\u001b[0m\n\u001b[1;32m    661\u001b[0m \u001b[0;34m\u001b[0m\u001b[0m\n\u001b[1;32m    662\u001b[0m         \u001b[0;31m# Get the set of child pointer lists for this edge.\u001b[0m\u001b[0;34m\u001b[0m\u001b[0;34m\u001b[0m\u001b[0;34m\u001b[0m\u001b[0m\n\u001b[0;32m--> 663\u001b[0;31m         \u001b[0mcpls\u001b[0m \u001b[0;34m=\u001b[0m \u001b[0mself\u001b[0m\u001b[0;34m.\u001b[0m\u001b[0m_edge_to_cpls\u001b[0m\u001b[0;34m.\u001b[0m\u001b[0msetdefault\u001b[0m\u001b[0;34m(\u001b[0m\u001b[0medge\u001b[0m\u001b[0;34m,\u001b[0m \u001b[0mOrderedDict\u001b[0m\u001b[0;34m(\u001b[0m\u001b[0;34m)\u001b[0m\u001b[0;34m)\u001b[0m\u001b[0;34m\u001b[0m\u001b[0;34m\u001b[0m\u001b[0m\n\u001b[0m\u001b[1;32m    664\u001b[0m         \u001b[0mchart_was_modified\u001b[0m \u001b[0;34m=\u001b[0m \u001b[0;32mFalse\u001b[0m\u001b[0;34m\u001b[0m\u001b[0;34m\u001b[0m\u001b[0m\n\u001b[1;32m    665\u001b[0m         \u001b[0;32mfor\u001b[0m \u001b[0mchild_pointer_list\u001b[0m \u001b[0;32min\u001b[0m \u001b[0mchild_pointer_lists\u001b[0m\u001b[0;34m:\u001b[0m\u001b[0;34m\u001b[0m\u001b[0;34m\u001b[0m\u001b[0m\n",
      "\u001b[0;31mKeyboardInterrupt\u001b[0m: "
     ]
    }
   ],
   "source": [
    "for idx, sent in enumerate(test_sents[15:31]):\n",
    " print(sent)\n",
    " parser.chart_parse(sent[0])\n"
   ]
  },
  {
   "cell_type": "code",
   "execution_count": 116,
   "metadata": {},
   "outputs": [],
   "source": [
    "grammar = nltk.CFG.fromstring(\"\"\"\n",
    "S -> NP VP\n",
    "PP -> P NP | P N\n",
    "NP -> Det N | Det NPP | 'I' | 'John'\n",
    "NPP -> N PP | N P \n",
    "VP -> V NP | VP PP\n",
    "Det -> 'an' | 'my' | 'a'\n",
    "N -> 'elephant' | 'pajamas' | 'shot' | 'cake'\n",
    "V -> 'shot' | 'ate'\n",
    "P -> 'in'\n",
    "\"\"\")"
   ]
  },
  {
   "cell_type": "code",
   "execution_count": 4,
   "metadata": {},
   "outputs": [
    {
     "data": {
      "text/plain": [
       "nltk.grammar.CFG"
      ]
     },
     "execution_count": 4,
     "metadata": {},
     "output_type": "execute_result"
    }
   ],
   "source": [
    "type(grammar)"
   ]
  },
  {
   "cell_type": "code",
   "execution_count": 5,
   "metadata": {},
   "outputs": [
    {
     "data": {
      "text/plain": [
       "S"
      ]
     },
     "execution_count": 5,
     "metadata": {},
     "output_type": "execute_result"
    }
   ],
   "source": [
    "grammar.start()"
   ]
  },
  {
   "cell_type": "code",
   "execution_count": 117,
   "metadata": {},
   "outputs": [
    {
     "data": {
      "text/plain": [
       "[S -> NP VP,\n",
       " PP -> P NP,\n",
       " PP -> P N,\n",
       " NP -> Det N,\n",
       " NP -> Det NPP,\n",
       " NP -> 'I',\n",
       " NP -> 'John',\n",
       " NPP -> N PP,\n",
       " NPP -> N P,\n",
       " VP -> V NP,\n",
       " VP -> VP PP,\n",
       " Det -> 'an',\n",
       " Det -> 'my',\n",
       " Det -> 'a',\n",
       " N -> 'elephant',\n",
       " N -> 'pajamas',\n",
       " N -> 'shot',\n",
       " N -> 'cake',\n",
       " V -> 'shot',\n",
       " V -> 'ate',\n",
       " P -> 'in']"
      ]
     },
     "execution_count": 117,
     "metadata": {},
     "output_type": "execute_result"
    }
   ],
   "source": [
    "grammar.productions()"
   ]
  },
  {
   "cell_type": "code",
   "execution_count": 6,
   "metadata": {},
   "outputs": [
    {
     "data": {
      "text/plain": [
       "[NP -> Det N, NP -> Det NPP, NP -> 'I', NP -> 'John']"
      ]
     },
     "execution_count": 6,
     "metadata": {},
     "output_type": "execute_result"
    }
   ],
   "source": [
    "from nltk.grammar import *\n",
    "grammar.productions(lhs=Nonterminal(\"NP\"))"
   ]
  },
  {
   "cell_type": "code",
   "execution_count": 7,
   "metadata": {},
   "outputs": [
    {
     "data": {
      "text/plain": [
       "[NP -> Det N, NP -> Det NPP]"
      ]
     },
     "execution_count": 7,
     "metadata": {},
     "output_type": "execute_result"
    }
   ],
   "source": [
    "grammar.productions(rhs=Nonterminal(\"Det\"))"
   ]
  },
  {
   "cell_type": "code",
   "execution_count": 8,
   "metadata": {},
   "outputs": [
    {
     "data": {
      "text/plain": [
       "[NP -> 'I']"
      ]
     },
     "execution_count": 8,
     "metadata": {},
     "output_type": "execute_result"
    }
   ],
   "source": [
    "pp = grammar.productions(rhs=\"I\")\n",
    "pp"
   ]
  },
  {
   "cell_type": "code",
   "execution_count": 9,
   "metadata": {},
   "outputs": [],
   "source": [
    "def fetch_lhs(grammar, rhs_tuple):\n",
    "    all_prods = []\n",
    "    \n",
    "    if len(rhs_tuple) == 1: # it's a terminal\n",
    "        pp = grammar.productions(rhs=rhs_tuple[0])\n",
    "        for prod in pp:\n",
    "            all_prods.append(prod.lhs()) \n",
    "        return all_prods\n",
    "    \n",
    "    filtered_productions = grammar.productions(rhs=rhs_tuple[0])\n",
    "    #print(filtered_productions)\n",
    "    \n",
    "    for a_production in filtered_productions:  \n",
    "        if rhs_tuple[1] == a_production.rhs()[1]:  \n",
    "              all_prods.append(a_production.lhs())\n",
    "    return all_prods"
   ]
  },
  {
   "cell_type": "code",
   "execution_count": 10,
   "metadata": {},
   "outputs": [
    {
     "ename": "TypeError",
     "evalue": "fetch_lhs() missing 1 required positional argument: 'rhs_tuple'",
     "output_type": "error",
     "traceback": [
      "\u001b[0;31m---------------------------------------------------------------------------\u001b[0m",
      "\u001b[0;31mTypeError\u001b[0m                                 Traceback (most recent call last)",
      "\u001b[0;32m<ipython-input-10-f9240e27a9f5>\u001b[0m in \u001b[0;36m<module>\u001b[0;34m()\u001b[0m\n\u001b[0;32m----> 1\u001b[0;31m \u001b[0mprint\u001b[0m\u001b[0;34m(\u001b[0m\u001b[0mfetch_lhs\u001b[0m\u001b[0;34m(\u001b[0m\u001b[0;34m(\u001b[0m\u001b[0;34m'Det'\u001b[0m\u001b[0;34m,\u001b[0m\u001b[0;34m'N'\u001b[0m\u001b[0;34m)\u001b[0m\u001b[0;34m)\u001b[0m\u001b[0;34m)\u001b[0m\u001b[0;34m\u001b[0m\u001b[0;34m\u001b[0m\u001b[0m\n\u001b[0m",
      "\u001b[0;31mTypeError\u001b[0m: fetch_lhs() missing 1 required positional argument: 'rhs_tuple'"
     ]
    }
   ],
   "source": [
    "print(fetch_lhs(('Det','N')))"
   ]
  },
  {
   "cell_type": "code",
   "execution_count": 48,
   "metadata": {},
   "outputs": [
    {
     "data": {
      "text/plain": [
       "N"
      ]
     },
     "execution_count": 48,
     "metadata": {},
     "output_type": "execute_result"
    }
   ],
   "source": [
    "grammar.productions(rhs='shot')[0].lhs()"
   ]
  },
  {
   "cell_type": "code",
   "execution_count": 129,
   "metadata": {},
   "outputs": [],
   "source": [
    "def parse_tree(chart, row, col, sym):\n",
    "    cell = chart[row][col][sym]\n",
    "    \n",
    "    #base condition - if string, we've reached a terminal. returns [terminal]\n",
    "    if type(cell[0]) == type('str'):\n",
    "        return [ImmutableTree(sym, cell)]\n",
    "        #return cell\n",
    "    \n",
    "    #print(f'cell: {cell}')\n",
    "    trees = []\n",
    "    for ind, tup in enumerate(cell):\n",
    "        #print(f'choice of tuple: {ind}')\n",
    "        left, right = tup[0], tup[1]\n",
    "        lhs_trees = parse_tree(chart, left[0], left[1], left[2])\n",
    "        rhs_trees = parse_tree(chart, right[0], right[1], right[2])\n",
    "        #print(f'lhs: {lhs_trees}')\n",
    "        #print(f'rhs: {rhs_trees}')\n",
    "        for t1 in lhs_trees:\n",
    "            for t2 in rhs_trees:\n",
    "                trees.append(ImmutableTree(sym, [t1]+[t2]))\n",
    "        #for t in trees:\n",
    "        #    print(f' after append: {Tree.fromstring(str(t)).pretty_print()}')\n",
    "    return trees\n",
    "    \n",
    "\n",
    "def cky_recognizer(words, grammar, parser=False, draw_tree=False):\n",
    "    #words = words.split() # for toy eg. \n",
    "    n = len(words)\n",
    "    print(n)\n",
    "    chart = [[defaultdict(list) for j in range(n+1)]  for i in range(n)]\n",
    "    \n",
    "    for col in range(1, n+1): # left to right\n",
    "        NT_list = fetch_lhs(grammar, (words[col-1],)) \n",
    "        for N in NT_list:\n",
    "            chart[col-1][col][N].append(words[col-1])\n",
    "            #print(N, chart[col-1][col][N][0])\n",
    "        \n",
    "        for row in range(col-2, -1, -1): # bottom-up\n",
    "            for k in range(row+1, col):\n",
    "                for first_N in list(chart[row][k].keys()):\n",
    "                    for second_N in list(chart[k][col].keys()):\n",
    "                        #print(f'chart[{row}][{k}] : {chart[row][k]}')\n",
    "                        #print(f'chart[{k}][{col}] : {chart[k][col]}')\n",
    "                        NT_list = fetch_lhs(grammar, (first_N, second_N))\n",
    "                        #print(NT_list)\n",
    "                        for N in NT_list:\n",
    "                            chart[row][col][N].append(((row, k, first_N), (k, col, second_N)))\n",
    "                            #print(N, chart[row][col][N])\n",
    "                            \n",
    "          \n",
    "    if parser: \n",
    "        if grammar.start() in chart[0][n].keys():\n",
    "            all_trees = []\n",
    "            tree = parse_tree(chart, 0, n, grammar.start())\n",
    "            if draw_tree:\n",
    "                for t in tree:\n",
    "                    Tree.fromstring(str(t)).pretty_print()\n",
    "            return len(tree)\n",
    "    \n",
    "    #for k, v in chart[0][n].items():\n",
    "    #    print(f'{k} -> {len(v)} {v}')\n",
    "    #    print()\n",
    "    return 0 #grammar.start() in chart[0][n].keys()"
   ]
  },
  {
   "cell_type": "code",
   "execution_count": 120,
   "metadata": {},
   "outputs": [
    {
     "name": "stdout",
     "output_type": "stream",
     "text": [
      "5\n",
      "chart[0][1] : defaultdict(<class 'list'>, {B: ['b']})\n",
      "chart[1][2] : defaultdict(<class 'list'>, {A: ['a'], C: ['a']})\n",
      "chart[0][1] : defaultdict(<class 'list'>, {B: ['b']})\n",
      "chart[1][2] : defaultdict(<class 'list'>, {A: ['a'], C: ['a']})\n",
      "chart[1][2] : defaultdict(<class 'list'>, {A: ['a'], C: ['a']})\n",
      "chart[2][3] : defaultdict(<class 'list'>, {A: ['a'], C: ['a']})\n",
      "chart[1][2] : defaultdict(<class 'list'>, {A: ['a'], C: ['a']})\n",
      "chart[2][3] : defaultdict(<class 'list'>, {A: ['a'], C: ['a']})\n",
      "chart[1][2] : defaultdict(<class 'list'>, {A: ['a'], C: ['a']})\n",
      "chart[2][3] : defaultdict(<class 'list'>, {A: ['a'], C: ['a']})\n",
      "chart[1][2] : defaultdict(<class 'list'>, {A: ['a'], C: ['a']})\n",
      "chart[2][3] : defaultdict(<class 'list'>, {A: ['a'], C: ['a']})\n",
      "chart[0][1] : defaultdict(<class 'list'>, {B: ['b']})\n",
      "chart[1][3] : defaultdict(<class 'list'>, {B: [((1, 2, C), (2, 3, C))]})\n",
      "chart[0][2] : defaultdict(<class 'list'>, {A: [((0, 1, B), (1, 2, A))], S: [((0, 1, B), (1, 2, C))]})\n",
      "chart[2][3] : defaultdict(<class 'list'>, {A: ['a'], C: ['a']})\n",
      "chart[0][2] : defaultdict(<class 'list'>, {A: [((0, 1, B), (1, 2, A))], S: [((0, 1, B), (1, 2, C))]})\n",
      "chart[2][3] : defaultdict(<class 'list'>, {A: ['a'], C: ['a']})\n",
      "chart[0][2] : defaultdict(<class 'list'>, {A: [((0, 1, B), (1, 2, A))], S: [((0, 1, B), (1, 2, C))]})\n",
      "chart[2][3] : defaultdict(<class 'list'>, {A: ['a'], C: ['a']})\n",
      "chart[0][2] : defaultdict(<class 'list'>, {A: [((0, 1, B), (1, 2, A))], S: [((0, 1, B), (1, 2, C))]})\n",
      "chart[2][3] : defaultdict(<class 'list'>, {A: ['a'], C: ['a']})\n",
      "chart[2][3] : defaultdict(<class 'list'>, {A: ['a'], C: ['a']})\n",
      "chart[3][4] : defaultdict(<class 'list'>, {B: ['b']})\n",
      "chart[2][3] : defaultdict(<class 'list'>, {A: ['a'], C: ['a']})\n",
      "chart[3][4] : defaultdict(<class 'list'>, {B: ['b']})\n",
      "chart[1][2] : defaultdict(<class 'list'>, {A: ['a'], C: ['a']})\n",
      "chart[2][4] : defaultdict(<class 'list'>, {S: [((2, 3, A), (3, 4, B))], C: [((2, 3, A), (3, 4, B))]})\n",
      "chart[1][2] : defaultdict(<class 'list'>, {A: ['a'], C: ['a']})\n",
      "chart[2][4] : defaultdict(<class 'list'>, {S: [((2, 3, A), (3, 4, B))], C: [((2, 3, A), (3, 4, B))]})\n",
      "chart[1][2] : defaultdict(<class 'list'>, {A: ['a'], C: ['a']})\n",
      "chart[2][4] : defaultdict(<class 'list'>, {S: [((2, 3, A), (3, 4, B))], C: [((2, 3, A), (3, 4, B))]})\n",
      "chart[1][2] : defaultdict(<class 'list'>, {A: ['a'], C: ['a']})\n",
      "chart[2][4] : defaultdict(<class 'list'>, {S: [((2, 3, A), (3, 4, B))], C: [((2, 3, A), (3, 4, B))]})\n",
      "chart[1][3] : defaultdict(<class 'list'>, {B: [((1, 2, C), (2, 3, C))]})\n",
      "chart[3][4] : defaultdict(<class 'list'>, {B: ['b']})\n",
      "chart[0][1] : defaultdict(<class 'list'>, {B: ['b']})\n",
      "chart[1][4] : defaultdict(<class 'list'>, {B: [((1, 2, C), (2, 4, C))]})\n",
      "chart[0][2] : defaultdict(<class 'list'>, {A: [((0, 1, B), (1, 2, A))], S: [((0, 1, B), (1, 2, C))]})\n",
      "chart[2][4] : defaultdict(<class 'list'>, {S: [((2, 3, A), (3, 4, B))], C: [((2, 3, A), (3, 4, B))]})\n",
      "chart[0][2] : defaultdict(<class 'list'>, {A: [((0, 1, B), (1, 2, A))], S: [((0, 1, B), (1, 2, C))]})\n",
      "chart[2][4] : defaultdict(<class 'list'>, {S: [((2, 3, A), (3, 4, B))], C: [((2, 3, A), (3, 4, B))]})\n",
      "chart[0][2] : defaultdict(<class 'list'>, {A: [((0, 1, B), (1, 2, A))], S: [((0, 1, B), (1, 2, C))]})\n",
      "chart[2][4] : defaultdict(<class 'list'>, {S: [((2, 3, A), (3, 4, B))], C: [((2, 3, A), (3, 4, B))]})\n",
      "chart[0][2] : defaultdict(<class 'list'>, {A: [((0, 1, B), (1, 2, A))], S: [((0, 1, B), (1, 2, C))]})\n",
      "chart[2][4] : defaultdict(<class 'list'>, {S: [((2, 3, A), (3, 4, B))], C: [((2, 3, A), (3, 4, B))]})\n",
      "chart[3][4] : defaultdict(<class 'list'>, {B: ['b']})\n",
      "chart[4][5] : defaultdict(<class 'list'>, {A: ['a'], C: ['a']})\n",
      "chart[3][4] : defaultdict(<class 'list'>, {B: ['b']})\n",
      "chart[4][5] : defaultdict(<class 'list'>, {A: ['a'], C: ['a']})\n",
      "chart[2][3] : defaultdict(<class 'list'>, {A: ['a'], C: ['a']})\n",
      "chart[3][5] : defaultdict(<class 'list'>, {A: [((3, 4, B), (4, 5, A))], S: [((3, 4, B), (4, 5, C))]})\n",
      "chart[2][3] : defaultdict(<class 'list'>, {A: ['a'], C: ['a']})\n",
      "chart[3][5] : defaultdict(<class 'list'>, {A: [((3, 4, B), (4, 5, A))], S: [((3, 4, B), (4, 5, C))]})\n",
      "chart[2][3] : defaultdict(<class 'list'>, {A: ['a'], C: ['a']})\n",
      "chart[3][5] : defaultdict(<class 'list'>, {A: [((3, 4, B), (4, 5, A))], S: [((3, 4, B), (4, 5, C))]})\n",
      "chart[2][3] : defaultdict(<class 'list'>, {A: ['a'], C: ['a']})\n",
      "chart[3][5] : defaultdict(<class 'list'>, {A: [((3, 4, B), (4, 5, A))], S: [((3, 4, B), (4, 5, C))]})\n",
      "chart[2][4] : defaultdict(<class 'list'>, {S: [((2, 3, A), (3, 4, B))], C: [((2, 3, A), (3, 4, B))]})\n",
      "chart[4][5] : defaultdict(<class 'list'>, {A: ['a'], C: ['a']})\n",
      "chart[2][4] : defaultdict(<class 'list'>, {S: [((2, 3, A), (3, 4, B))], C: [((2, 3, A), (3, 4, B))]})\n",
      "chart[4][5] : defaultdict(<class 'list'>, {A: ['a'], C: ['a']})\n",
      "chart[2][4] : defaultdict(<class 'list'>, {S: [((2, 3, A), (3, 4, B))], C: [((2, 3, A), (3, 4, B))]})\n",
      "chart[4][5] : defaultdict(<class 'list'>, {A: ['a'], C: ['a']})\n",
      "chart[2][4] : defaultdict(<class 'list'>, {S: [((2, 3, A), (3, 4, B))], C: [((2, 3, A), (3, 4, B))]})\n",
      "chart[4][5] : defaultdict(<class 'list'>, {A: ['a'], C: ['a']})\n",
      "chart[1][2] : defaultdict(<class 'list'>, {A: ['a'], C: ['a']})\n",
      "chart[2][5] : defaultdict(<class 'list'>, {B: [((2, 4, C), (4, 5, C))]})\n",
      "chart[1][2] : defaultdict(<class 'list'>, {A: ['a'], C: ['a']})\n",
      "chart[2][5] : defaultdict(<class 'list'>, {B: [((2, 4, C), (4, 5, C))]})\n",
      "chart[1][3] : defaultdict(<class 'list'>, {B: [((1, 2, C), (2, 3, C))]})\n",
      "chart[3][5] : defaultdict(<class 'list'>, {A: [((3, 4, B), (4, 5, A))], S: [((3, 4, B), (4, 5, C))]})\n",
      "chart[1][3] : defaultdict(<class 'list'>, {B: [((1, 2, C), (2, 3, C))]})\n",
      "chart[3][5] : defaultdict(<class 'list'>, {A: [((3, 4, B), (4, 5, A))], S: [((3, 4, B), (4, 5, C))]})\n",
      "chart[1][4] : defaultdict(<class 'list'>, {B: [((1, 2, C), (2, 4, C))]})\n",
      "chart[4][5] : defaultdict(<class 'list'>, {A: ['a'], C: ['a']})\n",
      "chart[1][4] : defaultdict(<class 'list'>, {B: [((1, 2, C), (2, 4, C))]})\n",
      "chart[4][5] : defaultdict(<class 'list'>, {A: ['a'], C: ['a']})\n",
      "chart[0][1] : defaultdict(<class 'list'>, {B: ['b']})\n",
      "chart[1][5] : defaultdict(<class 'list'>, {S: [((1, 2, A), (2, 5, B)), ((1, 4, B), (4, 5, C))], C: [((1, 2, A), (2, 5, B))], A: [((1, 3, B), (3, 5, A)), ((1, 4, B), (4, 5, A))]})\n",
      "chart[0][1] : defaultdict(<class 'list'>, {B: ['b']})\n",
      "chart[1][5] : defaultdict(<class 'list'>, {S: [((1, 2, A), (2, 5, B)), ((1, 4, B), (4, 5, C))], C: [((1, 2, A), (2, 5, B))], A: [((1, 3, B), (3, 5, A)), ((1, 4, B), (4, 5, A))]})\n",
      "chart[0][1] : defaultdict(<class 'list'>, {B: ['b']})\n",
      "chart[1][5] : defaultdict(<class 'list'>, {S: [((1, 2, A), (2, 5, B)), ((1, 4, B), (4, 5, C))], C: [((1, 2, A), (2, 5, B))], A: [((1, 3, B), (3, 5, A)), ((1, 4, B), (4, 5, A))]})\n",
      "chart[0][2] : defaultdict(<class 'list'>, {A: [((0, 1, B), (1, 2, A))], S: [((0, 1, B), (1, 2, C))]})\n",
      "chart[2][5] : defaultdict(<class 'list'>, {B: [((2, 4, C), (4, 5, C))]})\n",
      "chart[0][2] : defaultdict(<class 'list'>, {A: [((0, 1, B), (1, 2, A))], S: [((0, 1, B), (1, 2, C))]})\n",
      "chart[2][5] : defaultdict(<class 'list'>, {B: [((2, 4, C), (4, 5, C))]})\n",
      "         S             \n",
      "  _______|___           \n",
      " |           C         \n",
      " |    _______|___       \n",
      " |   |           B     \n",
      " |   |        ___|___   \n",
      " |   |       C       | \n",
      " |   |    ___|___    |  \n",
      " B   A   A       B   C \n",
      " |   |   |       |   |  \n",
      " b   a   a       b   a \n",
      "\n",
      "             S             \n",
      "      _______|_______       \n",
      "     |               B     \n",
      "     |            ___|___   \n",
      "     A           C       | \n",
      "  ___|___     ___|___    |  \n",
      " B       A   A       B   C \n",
      " |       |   |       |   |  \n",
      " b       a   a       b   a \n",
      "\n"
     ]
    },
    {
     "data": {
      "text/plain": [
       "True"
      ]
     },
     "execution_count": 120,
     "metadata": {},
     "output_type": "execute_result"
    }
   ],
   "source": [
    "cky_recognizer('b a a b a', toy_gram, parser=True)"
   ]
  },
  {
   "cell_type": "code",
   "execution_count": 100,
   "metadata": {},
   "outputs": [],
   "source": [
    "toy_gram = nltk.CFG.fromstring(\"\"\"\n",
    "S -> A B\n",
    "S -> B C\n",
    "A -> B A\n",
    "B -> C C\n",
    "C -> A B\n",
    "A -> 'a'\n",
    "B -> 'b'\n",
    "C -> 'a'\n",
    "\"\"\")"
   ]
  },
  {
   "cell_type": "code",
   "execution_count": 104,
   "metadata": {},
   "outputs": [
    {
     "data": {
      "text/plain": [
       "[S -> A B,\n",
       " S -> B C,\n",
       " A -> B A,\n",
       " B -> C C,\n",
       " C -> A B,\n",
       " A -> 'a',\n",
       " B -> 'b',\n",
       " C -> 'a']"
      ]
     },
     "execution_count": 104,
     "metadata": {},
     "output_type": "execute_result"
    }
   ],
   "source": [
    "toy_gram.productions()"
   ]
  },
  {
   "cell_type": "code",
   "execution_count": 118,
   "metadata": {},
   "outputs": [
    {
     "name": "stdout",
     "output_type": "stream",
     "text": [
      "7\n",
      "chart[0][1] : defaultdict(<class 'list'>, {NP: ['I']})\n",
      "chart[1][2] : defaultdict(<class 'list'>, {N: ['shot'], V: ['shot']})\n",
      "chart[0][1] : defaultdict(<class 'list'>, {NP: ['I']})\n",
      "chart[1][2] : defaultdict(<class 'list'>, {N: ['shot'], V: ['shot']})\n",
      "chart[1][2] : defaultdict(<class 'list'>, {N: ['shot'], V: ['shot']})\n",
      "chart[2][3] : defaultdict(<class 'list'>, {Det: ['an']})\n",
      "chart[1][2] : defaultdict(<class 'list'>, {N: ['shot'], V: ['shot']})\n",
      "chart[2][3] : defaultdict(<class 'list'>, {Det: ['an']})\n",
      "chart[2][3] : defaultdict(<class 'list'>, {Det: ['an']})\n",
      "chart[3][4] : defaultdict(<class 'list'>, {N: ['elephant']})\n",
      "chart[1][2] : defaultdict(<class 'list'>, {N: ['shot'], V: ['shot']})\n",
      "chart[2][4] : defaultdict(<class 'list'>, {NP: [((2, 3, Det), (3, 4, N))]})\n",
      "chart[1][2] : defaultdict(<class 'list'>, {N: ['shot'], V: ['shot']})\n",
      "chart[2][4] : defaultdict(<class 'list'>, {NP: [((2, 3, Det), (3, 4, N))]})\n",
      "chart[0][1] : defaultdict(<class 'list'>, {NP: ['I']})\n",
      "chart[1][4] : defaultdict(<class 'list'>, {VP: [((1, 2, V), (2, 4, NP))]})\n",
      "chart[3][4] : defaultdict(<class 'list'>, {N: ['elephant']})\n",
      "chart[4][5] : defaultdict(<class 'list'>, {P: ['in']})\n",
      "chart[2][3] : defaultdict(<class 'list'>, {Det: ['an']})\n",
      "chart[3][5] : defaultdict(<class 'list'>, {NPP: [((3, 4, N), (4, 5, P))]})\n",
      "chart[2][4] : defaultdict(<class 'list'>, {NP: [((2, 3, Det), (3, 4, N))]})\n",
      "chart[4][5] : defaultdict(<class 'list'>, {P: ['in']})\n",
      "chart[1][2] : defaultdict(<class 'list'>, {N: ['shot'], V: ['shot']})\n",
      "chart[2][5] : defaultdict(<class 'list'>, {NP: [((2, 3, Det), (3, 5, NPP))]})\n",
      "chart[1][2] : defaultdict(<class 'list'>, {N: ['shot'], V: ['shot']})\n",
      "chart[2][5] : defaultdict(<class 'list'>, {NP: [((2, 3, Det), (3, 5, NPP))]})\n",
      "chart[1][4] : defaultdict(<class 'list'>, {VP: [((1, 2, V), (2, 4, NP))]})\n",
      "chart[4][5] : defaultdict(<class 'list'>, {P: ['in']})\n",
      "chart[0][1] : defaultdict(<class 'list'>, {NP: ['I']})\n",
      "chart[1][5] : defaultdict(<class 'list'>, {VP: [((1, 2, V), (2, 5, NP))]})\n",
      "chart[0][4] : defaultdict(<class 'list'>, {S: [((0, 1, NP), (1, 4, VP))]})\n",
      "chart[4][5] : defaultdict(<class 'list'>, {P: ['in']})\n",
      "chart[4][5] : defaultdict(<class 'list'>, {P: ['in']})\n",
      "chart[5][6] : defaultdict(<class 'list'>, {Det: ['my']})\n",
      "chart[3][5] : defaultdict(<class 'list'>, {NPP: [((3, 4, N), (4, 5, P))]})\n",
      "chart[5][6] : defaultdict(<class 'list'>, {Det: ['my']})\n",
      "chart[2][5] : defaultdict(<class 'list'>, {NP: [((2, 3, Det), (3, 5, NPP))]})\n",
      "chart[5][6] : defaultdict(<class 'list'>, {Det: ['my']})\n",
      "chart[1][5] : defaultdict(<class 'list'>, {VP: [((1, 2, V), (2, 5, NP))]})\n",
      "chart[5][6] : defaultdict(<class 'list'>, {Det: ['my']})\n",
      "chart[0][5] : defaultdict(<class 'list'>, {S: [((0, 1, NP), (1, 5, VP))]})\n",
      "chart[5][6] : defaultdict(<class 'list'>, {Det: ['my']})\n",
      "chart[5][6] : defaultdict(<class 'list'>, {Det: ['my']})\n",
      "chart[6][7] : defaultdict(<class 'list'>, {N: ['pajamas']})\n",
      "chart[4][5] : defaultdict(<class 'list'>, {P: ['in']})\n",
      "chart[5][7] : defaultdict(<class 'list'>, {NP: [((5, 6, Det), (6, 7, N))]})\n",
      "chart[3][4] : defaultdict(<class 'list'>, {N: ['elephant']})\n",
      "chart[4][7] : defaultdict(<class 'list'>, {PP: [((4, 5, P), (5, 7, NP))]})\n",
      "chart[3][5] : defaultdict(<class 'list'>, {NPP: [((3, 4, N), (4, 5, P))]})\n",
      "chart[5][7] : defaultdict(<class 'list'>, {NP: [((5, 6, Det), (6, 7, N))]})\n",
      "chart[2][3] : defaultdict(<class 'list'>, {Det: ['an']})\n",
      "chart[3][7] : defaultdict(<class 'list'>, {NPP: [((3, 4, N), (4, 7, PP))]})\n",
      "chart[2][4] : defaultdict(<class 'list'>, {NP: [((2, 3, Det), (3, 4, N))]})\n",
      "chart[4][7] : defaultdict(<class 'list'>, {PP: [((4, 5, P), (5, 7, NP))]})\n",
      "chart[2][5] : defaultdict(<class 'list'>, {NP: [((2, 3, Det), (3, 5, NPP))]})\n",
      "chart[5][7] : defaultdict(<class 'list'>, {NP: [((5, 6, Det), (6, 7, N))]})\n",
      "chart[1][2] : defaultdict(<class 'list'>, {N: ['shot'], V: ['shot']})\n",
      "chart[2][7] : defaultdict(<class 'list'>, {NP: [((2, 3, Det), (3, 7, NPP))]})\n",
      "chart[1][2] : defaultdict(<class 'list'>, {N: ['shot'], V: ['shot']})\n",
      "chart[2][7] : defaultdict(<class 'list'>, {NP: [((2, 3, Det), (3, 7, NPP))]})\n",
      "chart[1][4] : defaultdict(<class 'list'>, {VP: [((1, 2, V), (2, 4, NP))]})\n",
      "chart[4][7] : defaultdict(<class 'list'>, {PP: [((4, 5, P), (5, 7, NP))]})\n",
      "chart[1][5] : defaultdict(<class 'list'>, {VP: [((1, 2, V), (2, 5, NP))]})\n",
      "chart[5][7] : defaultdict(<class 'list'>, {NP: [((5, 6, Det), (6, 7, N))]})\n",
      "chart[0][1] : defaultdict(<class 'list'>, {NP: ['I']})\n",
      "chart[1][7] : defaultdict(<class 'list'>, {VP: [((1, 2, V), (2, 7, NP)), ((1, 4, VP), (4, 7, PP))]})\n",
      "chart[0][4] : defaultdict(<class 'list'>, {S: [((0, 1, NP), (1, 4, VP))]})\n",
      "chart[4][7] : defaultdict(<class 'list'>, {PP: [((4, 5, P), (5, 7, NP))]})\n",
      "chart[0][5] : defaultdict(<class 'list'>, {S: [((0, 1, NP), (1, 5, VP))]})\n",
      "chart[5][7] : defaultdict(<class 'list'>, {NP: [((5, 6, Det), (6, 7, N))]})\n",
      "choice of tuple: 0\n",
      "choice of tuple: 0\n",
      "choice of tuple: 0\n",
      "choice of tuple: 0\n",
      "choice of tuple: 0\n",
      "choice of tuple: 0\n",
      "lhs: [ImmutableTree(Det, ['my'])]\n",
      "rhs: [ImmutableTree(N, ['pajamas'])]\n",
      "     NP        \n",
      "  ___|_____     \n",
      "Det        N   \n",
      " |         |    \n",
      " my     pajamas\n",
      "\n",
      " after append: None\n",
      "lhs: [ImmutableTree(P, ['in'])]\n",
      "rhs: [ImmutableTree(NP, [ImmutableTree(Det, ['my']), ImmutableTree(N, ['pajamas'])])]\n",
      "     PP            \n",
      "  ___|___           \n",
      " |       NP        \n",
      " |    ___|_____     \n",
      " P  Det        N   \n",
      " |   |         |    \n",
      " in  my     pajamas\n",
      "\n",
      " after append: None\n",
      "lhs: [ImmutableTree(N, ['elephant'])]\n",
      "rhs: [ImmutableTree(PP, [ImmutableTree(P, ['in']), ImmutableTree(NP, [ImmutableTree(Det, ['my']), ImmutableTree(N, ['pajamas'])])])]\n",
      "             NPP                \n",
      "    __________|___               \n",
      "   |              PP            \n",
      "   |       _______|___           \n",
      "   |      |           NP        \n",
      "   |      |        ___|_____     \n",
      "   N      P      Det        N   \n",
      "   |      |       |         |    \n",
      "elephant  in      my     pajamas\n",
      "\n",
      " after append: None\n",
      "lhs: [ImmutableTree(Det, ['an'])]\n",
      "rhs: [ImmutableTree(NPP, [ImmutableTree(N, ['elephant']), ImmutableTree(PP, [ImmutableTree(P, ['in']), ImmutableTree(NP, [ImmutableTree(Det, ['my']), ImmutableTree(N, ['pajamas'])])])])]\n",
      "              NP                    \n",
      "  ____________|___                   \n",
      " |               NPP                \n",
      " |      __________|___               \n",
      " |     |              PP            \n",
      " |     |       _______|___           \n",
      " |     |      |           NP        \n",
      " |     |      |        ___|_____     \n",
      "Det    N      P      Det        N   \n",
      " |     |      |       |         |    \n",
      " an elephant  in      my     pajamas\n",
      "\n",
      " after append: None\n",
      "lhs: [ImmutableTree(V, ['shot'])]\n",
      "rhs: [ImmutableTree(NP, [ImmutableTree(Det, ['an']), ImmutableTree(NPP, [ImmutableTree(N, ['elephant']), ImmutableTree(PP, [ImmutableTree(P, ['in']), ImmutableTree(NP, [ImmutableTree(Det, ['my']), ImmutableTree(N, ['pajamas'])])])])])]\n",
      "            VP                           \n",
      "  __________|______                       \n",
      " |                 NP                    \n",
      " |     ____________|___                   \n",
      " |    |               NPP                \n",
      " |    |      __________|___               \n",
      " |    |     |              PP            \n",
      " |    |     |       _______|___           \n",
      " |    |     |      |           NP        \n",
      " |    |     |      |        ___|_____     \n",
      " V   Det    N      P      Det        N   \n",
      " |    |     |      |       |         |    \n",
      "shot  an elephant  in      my     pajamas\n",
      "\n",
      " after append: None\n",
      "choice of tuple: 1\n",
      "choice of tuple: 0\n",
      "choice of tuple: 0\n",
      "lhs: [ImmutableTree(Det, ['an'])]\n",
      "rhs: [ImmutableTree(N, ['elephant'])]\n",
      "     NP         \n",
      "  ___|_____      \n",
      "Det        N    \n",
      " |         |     \n",
      " an     elephant\n",
      "\n",
      " after append: None\n",
      "lhs: [ImmutableTree(V, ['shot'])]\n",
      "rhs: [ImmutableTree(NP, [ImmutableTree(Det, ['an']), ImmutableTree(N, ['elephant'])])]\n",
      "      VP             \n",
      "  ____|___            \n",
      " |        NP         \n",
      " |     ___|_____      \n",
      " V   Det        N    \n",
      " |    |         |     \n",
      "shot  an     elephant\n",
      "\n",
      " after append: None\n",
      "choice of tuple: 0\n",
      "choice of tuple: 0\n",
      "lhs: [ImmutableTree(Det, ['my'])]\n",
      "rhs: [ImmutableTree(N, ['pajamas'])]\n",
      "     NP        \n",
      "  ___|_____     \n",
      "Det        N   \n",
      " |         |    \n",
      " my     pajamas\n",
      "\n",
      " after append: None\n",
      "lhs: [ImmutableTree(P, ['in'])]\n",
      "rhs: [ImmutableTree(NP, [ImmutableTree(Det, ['my']), ImmutableTree(N, ['pajamas'])])]\n",
      "     PP            \n",
      "  ___|___           \n",
      " |       NP        \n",
      " |    ___|_____     \n",
      " P  Det        N   \n",
      " |   |         |    \n",
      " in  my     pajamas\n",
      "\n",
      " after append: None\n",
      "lhs: [ImmutableTree(VP, [ImmutableTree(V, ['shot']), ImmutableTree(NP, [ImmutableTree(Det, ['an']), ImmutableTree(N, ['elephant'])])])]\n",
      "rhs: [ImmutableTree(PP, [ImmutableTree(P, ['in']), ImmutableTree(NP, [ImmutableTree(Det, ['my']), ImmutableTree(N, ['pajamas'])])])]\n",
      "            VP                           \n",
      "  __________|______                       \n",
      " |                 NP                    \n",
      " |     ____________|___                   \n",
      " |    |               NPP                \n",
      " |    |      __________|___               \n",
      " |    |     |              PP            \n",
      " |    |     |       _______|___           \n",
      " |    |     |      |           NP        \n",
      " |    |     |      |        ___|_____     \n",
      " V   Det    N      P      Det        N   \n",
      " |    |     |      |       |         |    \n",
      "shot  an elephant  in      my     pajamas\n",
      "\n",
      " after append: None\n",
      "                VP                       \n",
      "       _________|__________               \n",
      "      VP                   PP            \n",
      "  ____|___              ___|___           \n",
      " |        NP           |       NP        \n",
      " |     ___|_____       |    ___|_____     \n",
      " V   Det        N      P  Det        N   \n",
      " |    |         |      |   |         |    \n",
      "shot  an     elephant  in  my     pajamas\n",
      "\n",
      " after append: None\n",
      "lhs: [ImmutableTree(NP, ['I'])]\n",
      "rhs: [ImmutableTree(VP, [ImmutableTree(V, ['shot']), ImmutableTree(NP, [ImmutableTree(Det, ['an']), ImmutableTree(NPP, [ImmutableTree(N, ['elephant']), ImmutableTree(PP, [ImmutableTree(P, ['in']), ImmutableTree(NP, [ImmutableTree(Det, ['my']), ImmutableTree(N, ['pajamas'])])])])])]), ImmutableTree(VP, [ImmutableTree(VP, [ImmutableTree(V, ['shot']), ImmutableTree(NP, [ImmutableTree(Det, ['an']), ImmutableTree(N, ['elephant'])])]), ImmutableTree(PP, [ImmutableTree(P, ['in']), ImmutableTree(NP, [ImmutableTree(Det, ['my']), ImmutableTree(N, ['pajamas'])])])])]\n",
      "     S                                       \n",
      "  ___|__________                              \n",
      " |              VP                           \n",
      " |    __________|______                       \n",
      " |   |                 NP                    \n",
      " |   |     ____________|___                   \n",
      " |   |    |               NPP                \n",
      " |   |    |      __________|___               \n",
      " |   |    |     |              PP            \n",
      " |   |    |     |       _______|___           \n",
      " |   |    |     |      |           NP        \n",
      " |   |    |     |      |        ___|_____     \n",
      " NP  V   Det    N      P      Det        N   \n",
      " |   |    |     |      |       |         |    \n",
      " I  shot  an elephant  in      my     pajamas\n",
      "\n",
      " after append: None\n",
      "     S                                       \n",
      "  ___|______________                          \n",
      " |                  VP                       \n",
      " |         _________|__________               \n",
      " |        VP                   PP            \n",
      " |    ____|___              ___|___           \n",
      " |   |        NP           |       NP        \n",
      " |   |     ___|_____       |    ___|_____     \n",
      " NP  V   Det        N      P  Det        N   \n",
      " |   |    |         |      |   |         |    \n",
      " I  shot  an     elephant  in  my     pajamas\n",
      "\n",
      " after append: None\n",
      "     S                                       \n",
      "  ___|__________                              \n",
      " |              VP                           \n",
      " |    __________|______                       \n",
      " |   |                 NP                    \n",
      " |   |     ____________|___                   \n",
      " |   |    |               NPP                \n",
      " |   |    |      __________|___               \n",
      " |   |    |     |              PP            \n",
      " |   |    |     |       _______|___           \n",
      " |   |    |     |      |           NP        \n",
      " |   |    |     |      |        ___|_____     \n",
      " NP  V   Det    N      P      Det        N   \n",
      " |   |    |     |      |       |         |    \n",
      " I  shot  an elephant  in      my     pajamas\n",
      "\n",
      "     S                                       \n",
      "  ___|______________                          \n",
      " |                  VP                       \n",
      " |         _________|__________               \n",
      " |        VP                   PP            \n",
      " |    ____|___              ___|___           \n",
      " |   |        NP           |       NP        \n",
      " |   |     ___|_____       |    ___|_____     \n",
      " NP  V   Det        N      P  Det        N   \n",
      " |   |    |         |      |   |         |    \n",
      " I  shot  an     elephant  in  my     pajamas\n",
      "\n"
     ]
    },
    {
     "data": {
      "text/plain": [
       "True"
      ]
     },
     "execution_count": 118,
     "metadata": {},
     "output_type": "execute_result"
    }
   ],
   "source": [
    "cky_recognizer('I shot an elephant in my pajamas', grammar, True)"
   ]
  },
  {
   "cell_type": "code",
   "execution_count": 151,
   "metadata": {},
   "outputs": [
    {
     "name": "stdout",
     "output_type": "stream",
     "text": [
      "[S -> NP VP]\n"
     ]
    },
    {
     "data": {
      "text/plain": [
       "[]"
      ]
     },
     "execution_count": 151,
     "metadata": {},
     "output_type": "execute_result"
    }
   ],
   "source": [
    "fetch_lhs((Nonterminal(\"NP\"), Nonterminal(\"NP\")))"
   ]
  },
  {
   "cell_type": "code",
   "execution_count": 119,
   "metadata": {},
   "outputs": [
    {
     "name": "stdout",
     "output_type": "stream",
     "text": [
      "(S (NP I) (VP (V enjoyed) (NP my cookie)))\n"
     ]
    }
   ],
   "source": [
    "t = Tree.fromstring('(S (NP I) (VP (V enjoyed) (NP my cookie)))')\n",
    "print(t)"
   ]
  },
  {
   "cell_type": "code",
   "execution_count": 120,
   "metadata": {},
   "outputs": [
    {
     "name": "stdout",
     "output_type": "stream",
     "text": [
      "             S                \n",
      "  ___________|___              \n",
      " |               VP           \n",
      " |      _________|___          \n",
      " NP    V             NP       \n",
      " |     |          ___|____     \n",
      " I  enjoyed      my     cookie\n",
      "\n"
     ]
    }
   ],
   "source": [
    "t.pretty_print()"
   ]
  },
  {
   "cell_type": "code",
   "execution_count": 37,
   "metadata": {},
   "outputs": [],
   "source": [
    "t = ImmutableTree('S', [ImmutableTree('NP', ['I']), ImmutableTree('VP', [ImmutableTree('V', ['ate']), ImmutableTree('NP', ['a cookie'])])])\n",
    "from nltk.draw.tree import draw_trees\n",
    "draw_trees(t)                    \n"
   ]
  },
  {
   "cell_type": "code",
   "execution_count": 4,
   "metadata": {},
   "outputs": [
    {
     "ename": "NameError",
     "evalue": "name 'cky_recognizer' is not defined",
     "output_type": "error",
     "traceback": [
      "\u001b[0;31m---------------------------------------------------------------------------\u001b[0m",
      "\u001b[0;31mNameError\u001b[0m                                 Traceback (most recent call last)",
      "\u001b[0;32m<ipython-input-4-5517b7317ab2>\u001b[0m in \u001b[0;36m<module>\u001b[0;34m()\u001b[0m\n\u001b[1;32m      6\u001b[0m \u001b[0;32mwith\u001b[0m \u001b[0mopen\u001b[0m\u001b[0;34m(\u001b[0m\u001b[0;34m'result.txt'\u001b[0m\u001b[0;34m,\u001b[0m \u001b[0;34m'w'\u001b[0m\u001b[0;34m)\u001b[0m \u001b[0;32mas\u001b[0m \u001b[0mf\u001b[0m\u001b[0;34m:\u001b[0m\u001b[0;34m\u001b[0m\u001b[0;34m\u001b[0m\u001b[0m\n\u001b[1;32m      7\u001b[0m     \u001b[0;32mfor\u001b[0m \u001b[0midx\u001b[0m\u001b[0;34m,\u001b[0m \u001b[0msent\u001b[0m \u001b[0;32min\u001b[0m \u001b[0menumerate\u001b[0m\u001b[0;34m(\u001b[0m\u001b[0mtest_sents\u001b[0m\u001b[0;34m)\u001b[0m\u001b[0;34m:\u001b[0m\u001b[0;34m\u001b[0m\u001b[0;34m\u001b[0m\u001b[0m\n\u001b[0;32m----> 8\u001b[0;31m         \u001b[0mf\u001b[0m\u001b[0;34m.\u001b[0m\u001b[0mwrite\u001b[0m\u001b[0;34m(\u001b[0m\u001b[0;34mf\" {' '.join(sent[0])}\\t{cky_recognizer(sent[0], grammar, True)}\\n\"\u001b[0m\u001b[0;34m)\u001b[0m\u001b[0;34m\u001b[0m\u001b[0;34m\u001b[0m\u001b[0m\n\u001b[0m\u001b[1;32m      9\u001b[0m     \u001b[0;31m#print(parser.chart_parse(sent[0]))\u001b[0m\u001b[0;34m\u001b[0m\u001b[0;34m\u001b[0m\u001b[0;34m\u001b[0m\u001b[0m\n",
      "\u001b[0;31mNameError\u001b[0m: name 'cky_recognizer' is not defined"
     ]
    }
   ],
   "source": [
    "## test the parser with atis test sentences \n",
    "grammar = nltk.data.load(\"./atis/atis-grammar-cnf.cfg\")\n",
    "sents = nltk.data.load('./atis/atis-test-sentences.txt')\n",
    "test_sents = nltk.parse.util.extract_test_sentences(sents)\n",
    "\n",
    "with open('result.txt', 'w') as f:\n",
    "    for idx, sent in enumerate(test_sents):\n",
    "        f.write(f\" {' '.join(sent[0])}\\t{cky_recognizer(sent[0], grammar, True)}\\n\")\n",
    "    #print(parser.chart_parse(sent[0]))\n"
   ]
  },
  {
   "cell_type": "code",
   "execution_count": null,
   "metadata": {},
   "outputs": [],
   "source": []
  }
 ],
 "metadata": {
  "kernelspec": {
   "display_name": "Python 3",
   "language": "python",
   "name": "python3"
  },
  "language_info": {
   "codemirror_mode": {
    "name": "ipython",
    "version": 3
   },
   "file_extension": ".py",
   "mimetype": "text/x-python",
   "name": "python",
   "nbconvert_exporter": "python",
   "pygments_lexer": "ipython3",
   "version": "3.6.9"
  }
 },
 "nbformat": 4,
 "nbformat_minor": 2
}
