{
 "cells": [
  {
   "cell_type": "code",
   "execution_count": 48,
   "metadata": {},
   "outputs": [],
   "source": [
    "from collections import Counter"
   ]
  },
  {
   "cell_type": "code",
   "execution_count": 40,
   "metadata": {},
   "outputs": [],
   "source": [
    "path = 'sample.conll'\n",
    "\n",
    "sequence_len_counts = []\n",
    "tags = Counter()\n",
    "\n",
    "with open('sample.tsv', 'w+') as of:\n",
    "    with open(path, 'r') as f:\n",
    "        sents = f.readlines()\n",
    "        count = 0\n",
    "        \n",
    "        for i in range(len(sents)):\n",
    "            \n",
    "            if sents[i].startswith('#'):\n",
    "                continue\n",
    "            \n",
    "            if sents[i] == '\\n': # marks the end of sequence \n",
    "                sequence_len_counts.append(count) \n",
    "                count = 0 # reset the count \n",
    "                of.write('*\\n')\n",
    "                continue\n",
    "            \n",
    "            tokens = sents[i].split()\n",
    "            tags[tokens[4]] += 1\n",
    "            of.write(f'{tokens[2]}\\t{tokens[3]}\\t{tokens[4]}\\n')\n",
    "            count += 1 # update count of the sequence\n",
    "        \n",
    "    "
   ]
  },
  {
   "cell_type": "code",
   "execution_count": 41,
   "metadata": {},
   "outputs": [],
   "source": [
    "total_tags = sum(tags.values())"
   ]
  },
  {
   "cell_type": "code",
   "execution_count": 42,
   "metadata": {},
   "outputs": [],
   "source": [
    "sequence_len_counts.sort()\n"
   ]
  },
  {
   "cell_type": "code",
   "execution_count": 45,
   "metadata": {},
   "outputs": [],
   "source": [
    "# -- write info to file ---- #\n",
    "\n",
    "with open('sample.info', 'w+') as f:\n",
    "    f.write(f'Maximum sequence length: {sequence_len_counts[-1]}\\n')\n",
    "    f.write(f'Minimum sequence length: {sequence_len_counts[0]}\\n')\n",
    "    f.write(f'Mean sequence length: {sum(sequence_len_counts)/len(sequence_len_counts)}\\n')\n",
    "    f.write(f'Number of sequences: {len(sequence_len_counts)}\\n')\n",
    "    f.write(f'\\nTags: \\n')\n",
    "    for tag, count in tags.items():\n",
    "        f.write(f'{tag}\\t{(count/total_tags)*100}%\\n')\n",
    "        "
   ]
  }
 ],
 "metadata": {
  "kernelspec": {
   "display_name": "Python 3",
   "language": "python",
   "name": "python3"
  },
  "language_info": {
   "codemirror_mode": {
    "name": "ipython",
    "version": 3
   },
   "file_extension": ".py",
   "mimetype": "text/x-python",
   "name": "python",
   "nbconvert_exporter": "python",
   "pygments_lexer": "ipython3",
   "version": "3.6.9"
  }
 },
 "nbformat": 4,
 "nbformat_minor": 2
}
